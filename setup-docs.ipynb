{
 "cells": [
  {
   "cell_type": "markdown",
   "metadata": {},
   "source": [
    "Configure AWS S3 access\n",
    "1. https://docs.aws.amazon.com/cli/latest/userguide/cli-chap-configure.html#cli-quick-configuration\n",
    "\n",
    "Create and Configure Git \n",
    "1. https://help.github.com/en/github/getting-started-with-github/set-up-git\n",
    "\n",
    "Clone Git Repository\n",
    "1. https://github.com/craigboman/gutenberg.git\n",
    "\n",
    "Install Python virtual environtment\n",
    "1. pip install pipenv\n",
    "\n",
    "Start virtual env\n",
    "1. pipenv shell\n",
    "2. pipenv sync\n",
    "\n",
    "\n",
    "\n"
   ]
  }
 ],
 "metadata": {
  "kernelspec": {
   "display_name": "Python 3",
   "language": "python",
   "name": "python3"
  },
  "language_info": {
   "codemirror_mode": {
    "name": "ipython",
    "version": 3
   },
   "file_extension": ".py",
   "mimetype": "text/x-python",
   "name": "python",
   "nbconvert_exporter": "python",
   "pygments_lexer": "ipython3",
   "version": "3.7.6"
  }
 },
 "nbformat": 4,
 "nbformat_minor": 4
}
